{
 "cells": [
  {
   "cell_type": "markdown",
   "id": "cf21e963",
   "metadata": {},
   "source": [
    "Importing libraries"
   ]
  },
  {
   "cell_type": "code",
   "execution_count": 21,
   "id": "de8314e0",
   "metadata": {},
   "outputs": [],
   "source": [
    "import pandas as pd\n",
    "import numpy as np"
   ]
  },
  {
   "cell_type": "markdown",
   "id": "e258343b",
   "metadata": {},
   "source": [
    "Loading the data"
   ]
  },
  {
   "cell_type": "code",
   "execution_count": null,
   "id": "4d97feea",
   "metadata": {},
   "outputs": [],
   "source": [
    "df = pd.read_csv('data/autos.csv', encoding='latin-1') "
   ]
  },
  {
   "cell_type": "markdown",
   "id": "35ef8bb2",
   "metadata": {},
   "source": [
    "Declaring functions"
   ]
  },
  {
   "cell_type": "code",
   "execution_count": 23,
   "id": "697fda56",
   "metadata": {},
   "outputs": [],
   "source": [
    "def drop_index(df,index):\n",
    "    # Dropping specified indexes and reporting on a total % change in dataset size\n",
    "    df = df.drop(index)\n",
    "    len_index = len(index)\n",
    "    percent = np.round(100*len_index/len(df),2)\n",
    "    print(f\"{len_index} observations dropped ({percent}% of the current form of the dataset)\")\n",
    "    return df\n",
    "\n",
    "def dummify(df, col):\n",
    "    # Creating dummy variables and reporting on the created amount\n",
    "    dummies = pd.get_dummies(df[col], prefix=col, dummy_na=False, dtype=int)\n",
    "    df = pd.concat([df, dummies], axis=1)\n",
    "    df = df.drop(col, axis=1)\n",
    "    print(f\"{dummies.shape[1]} dummies created from {col} variable\")\n",
    "    return df"
   ]
  },
  {
   "cell_type": "markdown",
   "id": "0b71e8b4",
   "metadata": {},
   "source": [
    "Calculating the age of a car as a difference between the time the ad was scraped and the registration year. \n",
    "\n",
    "Dropping all very old cars (>30 years old), new cars (current and later model years) and errors."
   ]
  },
  {
   "cell_type": "code",
   "execution_count": 24,
   "id": "adf59f52",
   "metadata": {},
   "outputs": [
    {
     "name": "stdout",
     "output_type": "stream",
     "text": [
      "31570 observations dropped (9.29% of the current form of the dataset)\n"
     ]
    }
   ],
   "source": [
    "df['dateCrawled'] = pd.to_datetime(df['dateCrawled'], errors='coerce')\n",
    "df['age'] = df['dateCrawled'].dt.year - df['yearOfRegistration']\n",
    "wrong_age_index = df[(df['age']>30) | (df['age']<1)].index\n",
    "df = drop_index(df, wrong_age_index)\n",
    "df = df.drop(['dateCrawled','yearOfRegistration','monthOfRegistration'], axis=1)"
   ]
  },
  {
   "cell_type": "markdown",
   "id": "1f695bd3",
   "metadata": {},
   "source": [
    "Dropping all damaged or with unknown mechanical state cars"
   ]
  },
  {
   "cell_type": "code",
   "execution_count": 25,
   "id": "8a34f4f0",
   "metadata": {},
   "outputs": [
    {
     "name": "stdout",
     "output_type": "stream",
     "text": [
      "notRepairedDamage\n",
      "nein    247766\n",
      "ja       33218\n",
      "Name: count, dtype: int64\n",
      "92192 observations dropped (37.21% of the current form of the dataset)\n"
     ]
    }
   ],
   "source": [
    "print(df['notRepairedDamage'].value_counts())\n",
    "broken_car_index = df[(df['notRepairedDamage']=='ja') | (df['notRepairedDamage'].isna())].index\n",
    "df = drop_index(df, broken_car_index)\n",
    "df = df.drop('notRepairedDamage', axis=1)"
   ]
  },
  {
   "cell_type": "markdown",
   "id": "1234488b",
   "metadata": {},
   "source": [
    "Dropping redundant variables:\n",
    "- seller: only 1 observation has a different value than the rest\n",
    "- name: includes information that other variables provide, too granular in its current form\n",
    "- model: too granular in its current form, vehicleType and brand should be enough to model a price of a car\n",
    "- offerType: only 3 observations have a different value than the rest\n",
    "- abtest: irrelevant to the study\n",
    "- postalCode: irrelevant to the study\n",
    "- lastSeen: irrelevant to the study\n",
    "- dateCreated: irrelevant to the study\n",
    "- nrOfPictures: all values are equal to 0"
   ]
  },
  {
   "cell_type": "code",
   "execution_count": 26,
   "id": "af907f35",
   "metadata": {},
   "outputs": [],
   "source": [
    "redundant_cols = ['seller', 'name', 'model', 'offerType', 'abtest', 'postalCode', 'lastSeen', 'dateCreated', 'nrOfPictures']\n",
    "for col in redundant_cols:\n",
    "    df = df.drop(col, axis=1)"
   ]
  },
  {
   "cell_type": "markdown",
   "id": "47b52f20",
   "metadata": {},
   "source": [
    "Dropping remaining missing values"
   ]
  },
  {
   "cell_type": "code",
   "execution_count": 27,
   "id": "53eea768",
   "metadata": {},
   "outputs": [
    {
     "name": "stdout",
     "output_type": "stream",
     "text": [
      "13026 observations dropped (5.55% of the current form of the dataset)\n"
     ]
    }
   ],
   "source": [
    "na_mask = df.isnull()\n",
    "na_rows = na_mask.any(axis=1)\n",
    "na_index = df.index[na_rows]\n",
    "df = drop_index(df, na_index)"
   ]
  },
  {
   "cell_type": "markdown",
   "id": "b47926dc",
   "metadata": {},
   "source": [
    "Final set of variables before encoding"
   ]
  },
  {
   "cell_type": "code",
   "execution_count": 28,
   "id": "a97d3071",
   "metadata": {},
   "outputs": [
    {
     "name": "stdout",
     "output_type": "stream",
     "text": [
      "<class 'pandas.core.frame.DataFrame'>\n",
      "Index: 234740 entries, 3 to 371527\n",
      "Data columns (total 8 columns):\n",
      " #   Column       Non-Null Count   Dtype \n",
      "---  ------       --------------   ----- \n",
      " 0   price        234740 non-null  int64 \n",
      " 1   vehicleType  234740 non-null  object\n",
      " 2   gearbox      234740 non-null  object\n",
      " 3   powerPS      234740 non-null  int64 \n",
      " 4   kilometer    234740 non-null  int64 \n",
      " 5   fuelType     234740 non-null  object\n",
      " 6   brand        234740 non-null  object\n",
      " 7   age          234740 non-null  int64 \n",
      "dtypes: int64(4), object(4)\n",
      "memory usage: 16.1+ MB\n"
     ]
    }
   ],
   "source": [
    "df.info()"
   ]
  },
  {
   "cell_type": "markdown",
   "id": "6bc310ea",
   "metadata": {},
   "source": [
    "Descriptive statistics of the variables"
   ]
  },
  {
   "cell_type": "code",
   "execution_count": 29,
   "id": "3b735692",
   "metadata": {},
   "outputs": [
    {
     "data": {
      "text/html": [
       "<div>\n",
       "<style scoped>\n",
       "    .dataframe tbody tr th:only-of-type {\n",
       "        vertical-align: middle;\n",
       "    }\n",
       "\n",
       "    .dataframe tbody tr th {\n",
       "        vertical-align: top;\n",
       "    }\n",
       "\n",
       "    .dataframe thead th {\n",
       "        text-align: right;\n",
       "    }\n",
       "</style>\n",
       "<table border=\"1\" class=\"dataframe\">\n",
       "  <thead>\n",
       "    <tr style=\"text-align: right;\">\n",
       "      <th></th>\n",
       "      <th>count</th>\n",
       "      <th>mean</th>\n",
       "      <th>std</th>\n",
       "      <th>min</th>\n",
       "      <th>25%</th>\n",
       "      <th>50%</th>\n",
       "      <th>75%</th>\n",
       "      <th>max</th>\n",
       "    </tr>\n",
       "  </thead>\n",
       "  <tbody>\n",
       "    <tr>\n",
       "      <th>price</th>\n",
       "      <td>234740.0</td>\n",
       "      <td>8280.532108</td>\n",
       "      <td>296403.071630</td>\n",
       "      <td>0.0</td>\n",
       "      <td>1800.0</td>\n",
       "      <td>4250.0</td>\n",
       "      <td>9200.0</td>\n",
       "      <td>99999999.0</td>\n",
       "    </tr>\n",
       "    <tr>\n",
       "      <th>powerPS</th>\n",
       "      <td>234740.0</td>\n",
       "      <td>128.990726</td>\n",
       "      <td>151.805864</td>\n",
       "      <td>0.0</td>\n",
       "      <td>80.0</td>\n",
       "      <td>116.0</td>\n",
       "      <td>160.0</td>\n",
       "      <td>20000.0</td>\n",
       "    </tr>\n",
       "    <tr>\n",
       "      <th>kilometer</th>\n",
       "      <td>234740.0</td>\n",
       "      <td>123009.457272</td>\n",
       "      <td>40197.103456</td>\n",
       "      <td>5000.0</td>\n",
       "      <td>100000.0</td>\n",
       "      <td>150000.0</td>\n",
       "      <td>150000.0</td>\n",
       "      <td>150000.0</td>\n",
       "    </tr>\n",
       "    <tr>\n",
       "      <th>age</th>\n",
       "      <td>234740.0</td>\n",
       "      <td>12.065558</td>\n",
       "      <td>5.626494</td>\n",
       "      <td>1.0</td>\n",
       "      <td>8.0</td>\n",
       "      <td>12.0</td>\n",
       "      <td>16.0</td>\n",
       "      <td>30.0</td>\n",
       "    </tr>\n",
       "  </tbody>\n",
       "</table>\n",
       "</div>"
      ],
      "text/plain": [
       "              count           mean            std     min       25%       50%  \\\n",
       "price      234740.0    8280.532108  296403.071630     0.0    1800.0    4250.0   \n",
       "powerPS    234740.0     128.990726     151.805864     0.0      80.0     116.0   \n",
       "kilometer  234740.0  123009.457272   40197.103456  5000.0  100000.0  150000.0   \n",
       "age        234740.0      12.065558       5.626494     1.0       8.0      12.0   \n",
       "\n",
       "                75%         max  \n",
       "price        9200.0  99999999.0  \n",
       "powerPS       160.0     20000.0  \n",
       "kilometer  150000.0    150000.0  \n",
       "age            16.0        30.0  "
      ]
     },
     "execution_count": 29,
     "metadata": {},
     "output_type": "execute_result"
    }
   ],
   "source": [
    "df.describe().T"
   ]
  },
  {
   "cell_type": "markdown",
   "id": "25779f84",
   "metadata": {},
   "source": [
    "Dropping all cars with price equal to 0 or higher than 200000 euros"
   ]
  },
  {
   "cell_type": "code",
   "execution_count": 30,
   "id": "225928ac",
   "metadata": {},
   "outputs": [
    {
     "name": "stdout",
     "output_type": "stream",
     "text": [
      "2354 observations dropped (1.01% of the current form of the dataset)\n"
     ]
    }
   ],
   "source": [
    "price_index = df[(df['price']==0) | (df['price']>200000)].index\n",
    "df = drop_index(df, price_index)"
   ]
  },
  {
   "cell_type": "markdown",
   "id": "8c881d52",
   "metadata": {},
   "source": [
    "Dropping all cars with 0 or over 700 PS"
   ]
  },
  {
   "cell_type": "code",
   "execution_count": 31,
   "id": "6e0ea25c",
   "metadata": {},
   "outputs": [
    {
     "name": "stdout",
     "output_type": "stream",
     "text": [
      "7413 observations dropped (3.3% of the current form of the dataset)\n"
     ]
    }
   ],
   "source": [
    "ps_index = df[(df['powerPS']>700) | (df['powerPS'])==0].index\n",
    "df = drop_index(df, ps_index)"
   ]
  },
  {
   "cell_type": "markdown",
   "id": "ee2f70eb",
   "metadata": {},
   "source": [
    "Dropping cars not powered by diesel or regular combustion engines"
   ]
  },
  {
   "cell_type": "code",
   "execution_count": 32,
   "id": "edb8e5bf",
   "metadata": {},
   "outputs": [
    {
     "name": "stdout",
     "output_type": "stream",
     "text": [
      "4082 observations dropped (1.85% of the current form of the dataset)\n"
     ]
    }
   ],
   "source": [
    "fuel_index = df[~df['fuelType'].isin(['benzin', 'diesel'])].index\n",
    "df = drop_index(df, fuel_index)"
   ]
  },
  {
   "cell_type": "markdown",
   "id": "49a10334",
   "metadata": {},
   "source": [
    "Encoding binary variables"
   ]
  },
  {
   "cell_type": "code",
   "execution_count": 33,
   "id": "b0c35e29",
   "metadata": {},
   "outputs": [
    {
     "data": {
      "text/plain": [
       "gearbox\n",
       "1    168203\n",
       "0     52688\n",
       "Name: count, dtype: int64"
      ]
     },
     "execution_count": 33,
     "metadata": {},
     "output_type": "execute_result"
    }
   ],
   "source": [
    "df['gearbox'] = df['gearbox'].map({'manuell':1,'automatik':0}).astype(int)\n",
    "df['gearbox'].value_counts()"
   ]
  },
  {
   "cell_type": "code",
   "execution_count": 34,
   "id": "0158b27e",
   "metadata": {},
   "outputs": [
    {
     "data": {
      "text/plain": [
       "fuelType\n",
       "0    143111\n",
       "1     77780\n",
       "Name: count, dtype: int64"
      ]
     },
     "execution_count": 34,
     "metadata": {},
     "output_type": "execute_result"
    }
   ],
   "source": [
    "df['fuelType'] = df['fuelType'].map({'benzin':0,'diesel':1}).astype(int)\n",
    "df['fuelType'].value_counts()"
   ]
  },
  {
   "cell_type": "markdown",
   "id": "b4df7c4f",
   "metadata": {},
   "source": [
    "Final descriptive statistics of numerical variables"
   ]
  },
  {
   "cell_type": "code",
   "execution_count": 35,
   "id": "e733d2f5",
   "metadata": {},
   "outputs": [
    {
     "data": {
      "text/html": [
       "<div>\n",
       "<style scoped>\n",
       "    .dataframe tbody tr th:only-of-type {\n",
       "        vertical-align: middle;\n",
       "    }\n",
       "\n",
       "    .dataframe tbody tr th {\n",
       "        vertical-align: top;\n",
       "    }\n",
       "\n",
       "    .dataframe thead th {\n",
       "        text-align: right;\n",
       "    }\n",
       "</style>\n",
       "<table border=\"1\" class=\"dataframe\">\n",
       "  <thead>\n",
       "    <tr style=\"text-align: right;\">\n",
       "      <th></th>\n",
       "      <th>count</th>\n",
       "      <th>mean</th>\n",
       "      <th>std</th>\n",
       "      <th>min</th>\n",
       "      <th>25%</th>\n",
       "      <th>50%</th>\n",
       "      <th>75%</th>\n",
       "      <th>max</th>\n",
       "    </tr>\n",
       "  </thead>\n",
       "  <tbody>\n",
       "    <tr>\n",
       "      <th>price</th>\n",
       "      <td>220891.0</td>\n",
       "      <td>7286.557153</td>\n",
       "      <td>8819.513878</td>\n",
       "      <td>1.0</td>\n",
       "      <td>1950.0</td>\n",
       "      <td>4499.0</td>\n",
       "      <td>9500.0</td>\n",
       "      <td>200000.0</td>\n",
       "    </tr>\n",
       "    <tr>\n",
       "      <th>gearbox</th>\n",
       "      <td>220891.0</td>\n",
       "      <td>0.761475</td>\n",
       "      <td>0.426183</td>\n",
       "      <td>0.0</td>\n",
       "      <td>1.0</td>\n",
       "      <td>1.0</td>\n",
       "      <td>1.0</td>\n",
       "      <td>1.0</td>\n",
       "    </tr>\n",
       "    <tr>\n",
       "      <th>powerPS</th>\n",
       "      <td>220891.0</td>\n",
       "      <td>132.866464</td>\n",
       "      <td>150.771325</td>\n",
       "      <td>1.0</td>\n",
       "      <td>87.0</td>\n",
       "      <td>118.0</td>\n",
       "      <td>160.0</td>\n",
       "      <td>20000.0</td>\n",
       "    </tr>\n",
       "    <tr>\n",
       "      <th>kilometer</th>\n",
       "      <td>220891.0</td>\n",
       "      <td>122424.996944</td>\n",
       "      <td>40360.250517</td>\n",
       "      <td>5000.0</td>\n",
       "      <td>100000.0</td>\n",
       "      <td>150000.0</td>\n",
       "      <td>150000.0</td>\n",
       "      <td>150000.0</td>\n",
       "    </tr>\n",
       "    <tr>\n",
       "      <th>fuelType</th>\n",
       "      <td>220891.0</td>\n",
       "      <td>0.352119</td>\n",
       "      <td>0.477632</td>\n",
       "      <td>0.0</td>\n",
       "      <td>0.0</td>\n",
       "      <td>0.0</td>\n",
       "      <td>1.0</td>\n",
       "      <td>1.0</td>\n",
       "    </tr>\n",
       "    <tr>\n",
       "      <th>age</th>\n",
       "      <td>220891.0</td>\n",
       "      <td>11.919245</td>\n",
       "      <td>5.613558</td>\n",
       "      <td>1.0</td>\n",
       "      <td>8.0</td>\n",
       "      <td>12.0</td>\n",
       "      <td>16.0</td>\n",
       "      <td>30.0</td>\n",
       "    </tr>\n",
       "  </tbody>\n",
       "</table>\n",
       "</div>"
      ],
      "text/plain": [
       "              count           mean           std     min       25%       50%  \\\n",
       "price      220891.0    7286.557153   8819.513878     1.0    1950.0    4499.0   \n",
       "gearbox    220891.0       0.761475      0.426183     0.0       1.0       1.0   \n",
       "powerPS    220891.0     132.866464    150.771325     1.0      87.0     118.0   \n",
       "kilometer  220891.0  122424.996944  40360.250517  5000.0  100000.0  150000.0   \n",
       "fuelType   220891.0       0.352119      0.477632     0.0       0.0       0.0   \n",
       "age        220891.0      11.919245      5.613558     1.0       8.0      12.0   \n",
       "\n",
       "                75%       max  \n",
       "price        9500.0  200000.0  \n",
       "gearbox         1.0       1.0  \n",
       "powerPS       160.0   20000.0  \n",
       "kilometer  150000.0  150000.0  \n",
       "fuelType        1.0       1.0  \n",
       "age            16.0      30.0  "
      ]
     },
     "execution_count": 35,
     "metadata": {},
     "output_type": "execute_result"
    }
   ],
   "source": [
    "df.describe().T"
   ]
  },
  {
   "cell_type": "markdown",
   "id": "c4488450",
   "metadata": {},
   "source": [
    "Encoding categorical variables"
   ]
  },
  {
   "cell_type": "code",
   "execution_count": 36,
   "id": "f75d30ca",
   "metadata": {},
   "outputs": [
    {
     "name": "stdout",
     "output_type": "stream",
     "text": [
      "8 dummies created from vehicleType variable\n"
     ]
    }
   ],
   "source": [
    "df = dummify(df, 'vehicleType')"
   ]
  },
  {
   "cell_type": "code",
   "execution_count": 37,
   "id": "573c9ba2",
   "metadata": {},
   "outputs": [
    {
     "name": "stdout",
     "output_type": "stream",
     "text": [
      "40 dummies created from brand variable\n"
     ]
    }
   ],
   "source": [
    "df = dummify(df, 'brand')"
   ]
  },
  {
   "cell_type": "markdown",
   "id": "8f96d577",
   "metadata": {},
   "source": [
    "Saving the cleaned dataset"
   ]
  },
  {
   "cell_type": "code",
   "execution_count": null,
   "id": "193d04ee",
   "metadata": {},
   "outputs": [],
   "source": [
    "df.to_csv('data/autos_clean.csv', index=None)"
   ]
  }
 ],
 "metadata": {
  "kernelspec": {
   "display_name": "Python 3",
   "language": "python",
   "name": "python3"
  },
  "language_info": {
   "codemirror_mode": {
    "name": "ipython",
    "version": 3
   },
   "file_extension": ".py",
   "mimetype": "text/x-python",
   "name": "python",
   "nbconvert_exporter": "python",
   "pygments_lexer": "ipython3",
   "version": "3.12.4"
  }
 },
 "nbformat": 4,
 "nbformat_minor": 5
}
